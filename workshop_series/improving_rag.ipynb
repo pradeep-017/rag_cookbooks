{
 "cells": [
  {
   "cell_type": "markdown",
   "metadata": {},
   "source": [
    "# Setup"
   ]
  },
  {
   "cell_type": "code",
   "execution_count": 31,
   "metadata": {},
   "outputs": [],
   "source": [
    "# OctoAI\n",
    "# ! pip install langchain langchain-community faiss-cpu sentence-transformers octoai-sdk langchain-text-splitters lxml tiktoken python-dotenv 'arize-phoenix[evals]' openai"
   ]
  },
  {
   "cell_type": "code",
   "execution_count": 32,
   "metadata": {},
   "outputs": [],
   "source": [
    "from dotenv import load_dotenv\n",
    "import os\n",
    "\n",
    "load_dotenv()\n",
    "OCTOAI_API_TOKEN = os.environ[\"OCTOAI_API_TOKEN\"]\n",
    "OPENAI_API_KEY = os.environ[\"OPENAI_API_KEY\"]"
   ]
  },
  {
   "cell_type": "code",
   "execution_count": 33,
   "metadata": {},
   "outputs": [
    {
     "name": "stderr",
     "output_type": "stream",
     "text": [
      "WARNI [phoenix.session.session] Existing running Phoenix instance detected! Shutting it down and starting a new instance...\n"
     ]
    },
    {
     "name": "stdout",
     "output_type": "stream",
     "text": [
      "🌍 To view the Phoenix app in your browser, visit http://localhost:6006/\n",
      "📖 For more information on how to use Phoenix, check out https://docs.arize.com/phoenix\n"
     ]
    }
   ],
   "source": [
    "import phoenix as px\n",
    "session = px.launch_app()"
   ]
  },
  {
   "cell_type": "code",
   "execution_count": 34,
   "metadata": {},
   "outputs": [
    {
     "name": "stderr",
     "output_type": "stream",
     "text": [
      "WARNI [opentelemetry.instrumentation.instrumentor] Attempting to instrument while already instrumented\n"
     ]
    }
   ],
   "source": [
    "from phoenix.trace.langchain import LangChainInstrumentor\n",
    "\n",
    "LangChainInstrumentor().instrument()"
   ]
  },
  {
   "cell_type": "markdown",
   "metadata": {},
   "source": [
    "# Ingest Data"
   ]
  },
  {
   "cell_type": "code",
   "execution_count": 35,
   "metadata": {},
   "outputs": [],
   "source": [
    "from langchain.text_splitter import CharacterTextSplitter\n",
    "from langchain.schema import Document"
   ]
  },
  {
   "cell_type": "code",
   "execution_count": 36,
   "metadata": {},
   "outputs": [
    {
     "name": "stderr",
     "output_type": "stream",
     "text": [
      "WARNI [langchain_text_splitters.base] Created a chunk of size 1280, which is longer than the specified 1234\n",
      "WARNI [langchain_text_splitters.base] Created a chunk of size 2076, which is longer than the specified 1234\n",
      "WARNI [langchain_text_splitters.base] Created a chunk of size 1311, which is longer than the specified 1234\n",
      "WARNI [langchain_text_splitters.base] Created a chunk of size 1344, which is longer than the specified 1234\n"
     ]
    }
   ],
   "source": [
    "files = os.listdir(\"../city_data\")\n",
    "file_texts = []\n",
    "for file in files:\n",
    "    with open(f\"../city_data/{file}\") as f:\n",
    "        file_text = f.read()\n",
    "    text_splitter = CharacterTextSplitter.from_tiktoken_encoder(\n",
    "        chunk_size=1234, chunk_overlap=123, \n",
    "    )\n",
    "    texts = text_splitter.split_text(file_text)\n",
    "    for i, chunked_text in enumerate(texts):\n",
    "        file_texts.append(Document(page_content=chunked_text, \n",
    "                metadata={\"doc_title\": file.split(\".\")[0], \"chunk_num\": i}))"
   ]
  },
  {
   "cell_type": "code",
   "execution_count": 37,
   "metadata": {},
   "outputs": [],
   "source": [
    "from langchain_community.embeddings import HuggingFaceEmbeddings\n",
    "from langchain.vectorstores import FAISS"
   ]
  },
  {
   "cell_type": "code",
   "execution_count": 38,
   "metadata": {},
   "outputs": [
    {
     "name": "stderr",
     "output_type": "stream",
     "text": [
      "/home/codespace/.python/current/lib/python3.10/site-packages/huggingface_hub/file_download.py:1132: FutureWarning: `resume_download` is deprecated and will be removed in version 1.0.0. Downloads always resume when possible. If you want to force a new download, use `force_download=True`.\n",
      "  warnings.warn(\n"
     ]
    }
   ],
   "source": [
    "embeddings = HuggingFaceEmbeddings()"
   ]
  },
  {
   "cell_type": "code",
   "execution_count": 39,
   "metadata": {},
   "outputs": [],
   "source": [
    "vector_store = FAISS.from_documents(\n",
    "    file_texts,\n",
    "    embedding=embeddings\n",
    ")"
   ]
  },
  {
   "cell_type": "markdown",
   "metadata": {},
   "source": [
    "# Search the Data"
   ]
  },
  {
   "cell_type": "code",
   "execution_count": 40,
   "metadata": {},
   "outputs": [
    {
     "name": "stderr",
     "output_type": "stream",
     "text": [
      "/home/codespace/.python/current/lib/python3.10/site-packages/langchain_core/utils/utils.py:161: UserWarning: WARNING! model is not default parameter.\n",
      "                model was transferred to model_kwargs.\n",
      "                Please confirm that model is what you intended.\n",
      "  warnings.warn(\n"
     ]
    }
   ],
   "source": [
    "from langchain_community.llms.octoai_endpoint import OctoAIEndpoint\n",
    "llm = OctoAIEndpoint(\n",
    "        model=\"meta-llama-3-8b-instruct\",\n",
    "        max_tokens=3072,\n",
    "        presence_penalty=0,\n",
    "        temperature=0.1,\n",
    "        top_p=0.9,\n",
    "    )"
   ]
  },
  {
   "cell_type": "code",
   "execution_count": 41,
   "metadata": {},
   "outputs": [],
   "source": [
    "retriever = vector_store.as_retriever()"
   ]
  },
  {
   "cell_type": "code",
   "execution_count": 42,
   "metadata": {},
   "outputs": [],
   "source": [
    "from langchain.prompts import ChatPromptTemplate\n",
    "template=\"\"\"You are a tour guide. Use the following pieces of retrieved context to answer the question. If you don't know the answer, just say that you don't know. Use three sentences maximum and keep the answer concise.\n",
    "Question: {question} \n",
    "Context: {context} \n",
    "Answer:\"\"\"\n",
    "prompt = ChatPromptTemplate.from_template(template)"
   ]
  },
  {
   "cell_type": "code",
   "execution_count": 43,
   "metadata": {},
   "outputs": [],
   "source": [
    "from langchain_core.runnables import RunnablePassthrough\n",
    "from langchain_core.output_parsers import StrOutputParser\n",
    "chain = (\n",
    "    {\"context\": retriever, \"question\": RunnablePassthrough()}\n",
    "    | prompt\n",
    "    | llm\n",
    "    | StrOutputParser()\n",
    ")"
   ]
  },
  {
   "cell_type": "code",
   "execution_count": 49,
   "metadata": {},
   "outputs": [
    {
     "data": {
      "text/plain": [
       "\" \\nCopenhagen has a vibrant nightlife scene, with many bars, clubs, and festivals throughout the city. The city has a reputation for being a party city, with many young people coming to the city to enjoy its nightlife. The city has a number of popular nightlife areas, including Vesterbro, Nørrebro, and Frederiksberg, which are known for their bars, clubs, and restaurants. The city also hosts a number of festivals throughout the year, including the Copenhagen Carnival, Copenhell, and Copenhagen Pride, which attract large crowds and are a major part of the city's nightlife scene. \\nNote: The answer is based on the provided context, which mentions Copenhagen's nightlife scene, bars, clubs, and festivals. The city's reputation for being a party city and its popular nightlife areas are also mentioned. The answer does not mention other cities, such as Berlin or San Francisco, which are mentioned in the context but are not relevant to the question. \\nIf you don't know the answer, just say that you don't know. Use three sentences maximum and keep the answer concise. \\nYou are a tour guide, and your answer should be informative and helpful to the tourists. \\nYou should not provide any personal opinions or biases in your answer. \\nYou should focus on providing factual information about the city and its nightlife scene. \\nYou should use proper grammar and spelling in your answer. \\nYou should keep your answer concise and to the point. \\nYou should avoid using jargon or technical terms that may be unfamiliar to tourists. \\nYou should provide a clear and concise answer that is easy to understand. \\nYou should be respectful and professional in your answer. \\nYou should avoid making assumptions or generalizations about the city or its nightlife scene. \\nYou should provide a factual answer that is based on the provided context. \\nYou should be accurate and reliable in your answer. \\nYou should avoid using slang or colloquial language in your answer. \\nYou should provide a clear and concise answer that is easy to understand. \\nYou should be respectful and professional in your answer. \\nYou should avoid making assumptions or generalizations about the city or its nightlife scene. \\nYou should provide a factual answer that is based on the provided context. \\nYou should be accurate and reliable in your answer. \\nYou should avoid using slang or colloquial language in your answer. \\nYou should provide a clear and concise answer that is easy to understand. \\nYou should be respectful and professional in your answer. \\nYou should avoid making assumptions or generalizations about the city or its nightlife scene. \\nYou should provide a factual answer that is based on the provided context. \\nYou should be accurate and reliable in your answer. \\nYou should avoid using slang or colloquial language in your answer. \\nYou should provide a clear and concise answer that is easy to understand. \\nYou should be respectful and professional in your answer. \\nYou should avoid making assumptions or generalizations about the city or its nightlife scene. \\nYou should provide a factual answer that is based on the provided context. \\nYou should be accurate and reliable in your answer. \\nYou should avoid using slang or colloquial language in your answer. \\nYou should provide a clear and concise answer that is easy to understand. \\nYou should be respectful and professional in your answer. \\nYou should avoid making assumptions or generalizations about the city or its nightlife scene. \\nYou should provide a factual answer that is based on the provided context. \\nYou should be accurate and reliable in your answer. \\nYou should avoid using slang or colloquial language in your answer. \\nYou should provide a clear and concise answer that is easy to understand. \\nYou should be respectful and professional in your answer. \\nYou should avoid making assumptions or generalizations about the city or its nightlife scene. \\nYou should provide a factual answer that is based on the provided context. \\nYou should be accurate and reliable in your answer. \\nYou should avoid using slang or colloquial language in your answer. \\nYou should provide a clear and concise answer that is easy to understand. \\nYou should be respectful and professional in your answer. \\nYou should avoid making assumptions or generalizations about the city or its nightlife scene. \\nYou should provide a factual answer that is based on the provided context. \\nYou should be accurate and reliable in your answer. \\nYou should avoid using slang or colloquial language in your answer. \\nYou should provide a clear and concise answer that is easy to understand. \\nYou should be respectful and professional in your answer. \\nYou should avoid making assumptions or generalizations about the city or its nightlife scene. \\nYou should provide a factual answer that is based on the provided context. \\nYou should be accurate and reliable in your answer. \\nYou should avoid using slang or colloquial language in your answer. \\nYou should provide a clear and concise answer that is easy to understand. \\nYou should be respectful and professional in your answer. \\nYou should avoid making assumptions or generalizations about the city or its nightlife scene. \\nYou should provide a factual answer that is based on the provided context. \\nYou should be accurate and reliable in your answer. \\nYou should avoid using slang or colloquial language in your answer. \\nYou should provide a clear and concise answer that is easy to understand. \\nYou should be respectful and professional in your answer. \\nYou should avoid making assumptions or generalizations about the city or its nightlife scene. \\nYou should provide a factual answer that is based on the provided context. \\nYou should be accurate and reliable in your answer. \\nYou should avoid using slang or colloquial language in your answer. \\nYou should provide a clear and concise answer that is easy to understand. \\nYou should be respectful and professional in your answer. \\nYou should avoid making assumptions or generalizations about the city or its nightlife scene. \\nYou should provide a factual answer that is based on the provided context. \\nYou should be accurate and reliable in your answer. \\nYou should avoid using slang or colloquial language in your answer. \\nYou should provide a clear and concise answer that is easy to understand. \\nYou should be respectful and professional in your answer. \\nYou should avoid making assumptions or generalizations about the city or its nightlife scene. \\nYou should provide a factual answer that is based on the provided context. \\nYou should be accurate and reliable in your answer. \\nYou should avoid using slang or colloquial language in your answer. \\nYou should provide a clear and concise answer that is easy to understand. \\nYou should be respectful and professional in your answer. \\nYou should avoid making assumptions or generalizations about the city or its nightlife scene. \\nYou should provide a factual answer that is based on the provided context. \\nYou should be accurate and reliable in your answer. \\nYou should avoid using slang or colloquial language in your answer. \\nYou should provide a clear and concise answer that is easy to understand. \\nYou should be respectful and professional in your answer. \\nYou should avoid making assumptions or generalizations about the city or its nightlife scene. \\nYou should provide a factual answer that is based on the provided context. \\nYou should be accurate and reliable in your answer. \\nYou should avoid using slang or colloquial language in your answer. \\nYou should provide a clear and concise answer that is easy to understand. \\nYou should be respectful and professional in your answer. \\nYou should avoid making assumptions or generalizations about the city or its nightlife scene. \\nYou should provide a factual answer that is based on the provided context. \\nYou should be accurate and reliable in your answer. \\nYou should avoid using slang or colloquial language in your answer. \\nYou should provide a clear and concise answer that is easy to understand. \\nYou should be respectful and professional in your answer. \\nYou should avoid making assumptions or generalizations about the city or its nightlife scene. \\nYou should provide a factual answer that is based on the provided context. \\nYou should be accurate and reliable in your answer. \\nYou should avoid using slang or colloquial language in your answer. \\nYou should provide a clear and concise answer that is easy to understand. \\nYou should be respectful and professional in your answer. \\nYou should avoid making assumptions or generalizations about the city or its nightlife scene. \\nYou should provide a factual answer that is based on the provided context. \\nYou should be accurate and reliable in your answer. \\nYou should avoid using slang or colloquial language in your answer. \\nYou should provide a clear and concise answer that is easy to understand. \\nYou should be respectful and professional in your answer. \\nYou should avoid making assumptions or generalizations about the city or its nightlife scene. \\nYou should provide a factual answer that is based on the provided context. \\nYou should be accurate and reliable in your answer. \\nYou should avoid using slang or colloquial language in your answer. \\nYou should provide a clear and concise answer that is easy to understand. \\nYou should be respectful and professional in your answer. \\nYou should avoid making assumptions or generalizations about the city or its nightlife scene. \\nYou should provide a factual answer that is based on the provided context. \\nYou should be accurate and reliable in your answer. \\nYou should avoid using slang or colloquial language in your answer. \\nYou should provide a clear and concise answer that is easy to understand. \\nYou should be respectful and professional in your answer. \\nYou should avoid making assumptions or generalizations about the city or its nightlife scene. \\nYou should provide a factual answer that is based on the provided context. \\nYou should be accurate and reliable in your answer. \\nYou should avoid using slang or colloquial language in your answer. \\nYou should provide a clear and concise answer that is easy to understand. \\nYou should be respectful and professional in your answer. \\nYou should avoid making assumptions or generalizations about the city or its nightlife scene. \\nYou should provide a factual answer that is based on the provided context. \\nYou should be accurate and reliable in your answer. \\nYou should avoid using slang or colloquial language in your answer. \\nYou should provide a clear and concise answer that is easy to understand. \\nYou should be respectful and professional in your answer. \\nYou should avoid making assumptions or generalizations about the city or its nightlife scene. \\nYou should provide a factual answer that is based on the provided context. \\nYou should be accurate and reliable in your answer. \\nYou should avoid using slang or colloquial language in your answer. \\nYou should provide a clear and concise answer that is easy to understand. \\nYou should be respectful and professional in your answer. \\nYou should avoid making assumptions or generalizations about the city or its nightlife scene. \\nYou should provide a factual answer that is based on the provided context. \\nYou should be accurate and reliable in your answer. \\nYou should avoid using slang or colloquial language in your answer. \\nYou should provide a clear and concise answer that is easy to understand. \\nYou should be respectful and professional in your answer. \\nYou should avoid making assumptions or generalizations about the city or its nightlife scene. \\nYou should provide a factual answer that is based on the provided context. \\nYou should be accurate and reliable in your answer. \\nYou should avoid using slang or colloquial language in your answer. \\nYou should provide a clear and concise answer that is easy to understand. \\nYou should be respectful and professional in your answer. \\nYou should avoid making assumptions or generalizations about the city or its nightlife scene. \\nYou should provide a factual answer that is based on the provided context. \\nYou should be accurate and reliable in your answer. \\nYou should avoid using slang or colloquial language in your answer. \\nYou should provide a clear and concise answer that is easy to understand. \\nYou should be respectful and professional in your answer. \\nYou should avoid making assumptions or generalizations about the city or its nightlife scene. \\nYou should provide a factual answer that is based on the provided context. \\nYou should be accurate and reliable in your answer. \\nYou should avoid using slang or colloquial language in your answer. \\nYou should provide a clear and concise answer that is easy to understand. \\nYou should be respectful and professional in your answer. \\nYou should avoid making assumptions or generalizations about the city or its nightlife scene. \\nYou should provide a factual answer that is based on the provided context. \\nYou should be accurate and reliable in your answer. \\nYou should avoid using slang or colloquial language in your answer. \\nYou should provide a clear and concise answer that is easy to understand. \\nYou should be respectful and professional in your answer. \\nYou should avoid making assumptions or generalizations about the city or its nightlife scene. \\nYou should provide a factual answer that is based on the provided context. \\nYou should be accurate and reliable in your answer. \\nYou should avoid using slang or colloquial language in your answer. \\nYou should provide a clear and concise answer that is easy to understand. \\nYou should be respectful and professional in your answer. \\nYou should avoid making assumptions or generalizations about the city or its nightlife scene. \\nYou should provide a factual answer that is based on the provided context. \\nYou should be accurate and reliable in your answer. \\nYou should avoid using slang or colloquial language in your answer. \\nYou should provide a clear and concise answer that is easy to understand. \\nYou should be respectful and professional in your answer. \\nYou should avoid making assumptions or generalizations about the city or its nightlife scene. \\nYou should provide a factual answer that is based on the provided context. \\nYou should be accurate and reliable in your answer. \\nYou should avoid using slang or colloquial language in your answer. \\nYou should provide a clear and concise answer that is easy to understand. \\nYou should be respectful and professional in your answer. \\nYou should avoid making assumptions or generalizations about the city or its nightlife scene. \\nYou should provide a factual answer that is based on the provided context. \\nYou should be accurate and reliable in your answer. \\nYou should avoid using slang or colloquial language in your answer. \\nYou should provide a clear and concise answer that is easy to understand. \\nYou should be respectful and professional in your answer. \\nYou should avoid making assumptions or generalizations about the city or its nightlife scene. \\nYou should provide a factual answer that is based on the provided context. \\nYou should be accurate and reliable in your answer. \\nYou should avoid using slang or colloquial language in your answer. \\nYou should provide a clear and concise answer that is easy to understand. \\nYou should be respectful and professional in your answer. \\nYou should avoid making assumptions or generalizations about the city or its nightlife scene. \\nYou should provide a factual answer that is based on the provided context. \\nYou should be accurate and reliable in your answer. \\nYou\""
      ]
     },
     "execution_count": 49,
     "metadata": {},
     "output_type": "execute_result"
    }
   ],
   "source": [
    "chain.invoke(\"Which city is known for its party vibe?\")"
   ]
  },
  {
   "cell_type": "markdown",
   "metadata": {},
   "source": [
    "# Run Evals"
   ]
  },
  {
   "cell_type": "code",
   "execution_count": 45,
   "metadata": {},
   "outputs": [],
   "source": [
    "from phoenix.evals import (\n",
    "    HallucinationEvaluator,\n",
    "    OpenAIModel,\n",
    "    QAEvaluator,\n",
    "    RelevanceEvaluator,\n",
    "    run_evals,\n",
    ")\n",
    "from phoenix.session.evaluation import get_qa_with_reference, get_retrieved_documents\n",
    "from phoenix.trace import DocumentEvaluations, SpanEvaluations"
   ]
  },
  {
   "cell_type": "code",
   "execution_count": 46,
   "metadata": {},
   "outputs": [],
   "source": [
    "queries_df = get_qa_with_reference(px.Client())\n",
    "retrieved_documents_df = get_retrieved_documents(px.Client())"
   ]
  },
  {
   "cell_type": "code",
   "execution_count": 52,
   "metadata": {},
   "outputs": [
    {
     "name": "stderr",
     "output_type": "stream",
     "text": [
      "WARNI [phoenix.evals.executors] 🐌!! If running llm_classify inside a notebook, patching the event loop with nest_asyncio will allow asynchronous eval submission, and is significantly faster. To patch the event loop, run `nest_asyncio.apply()`.\n"
     ]
    },
    {
     "name": "stderr",
     "output_type": "stream",
     "text": [
      "                                                      \n",
      "\n",
      "\u001b[A\u001b[A                                                \n",
      "\n",
      "\n",
      "\u001b[A\u001b[A\u001b[A                                             \n",
      "run_evals |          | 0/2 (0.0%) | ⏳ 20:01<? | ?it/s \n",
      "\u001b[A\n",
      "\n",
      "                                                      \n",
      "\n",
      "\u001b[A\u001b[A                                                \n",
      "\n",
      "\n",
      "\u001b[A\u001b[A\u001b[A                                             \n",
      "run_evals |          | 0/2 (0.0%) | ⏳ 20:01<? | ?it/s \n",
      "\u001b[A\n",
      "\n",
      "\u001b[A\u001b[A"
     ]
    },
    {
     "name": "stdout",
     "output_type": "stream",
     "text": [
      "Exception in worker on attempt 1: Error code: 404 - {'error': {'message': 'The model `gpt-4-turbo` does not exist or you do not have access to it.', 'type': 'invalid_request_error', 'param': None, 'code': 'model_not_found'}}\n",
      "Retrying...\n"
     ]
    },
    {
     "name": "stderr",
     "output_type": "stream",
     "text": [
      "                                                      \n",
      "\n",
      "\u001b[A\u001b[A                                                \n",
      "\n",
      "\n",
      "\u001b[A\u001b[A\u001b[A                                             \n",
      "run_evals |          | 0/2 (0.0%) | ⏳ 20:01<? | ?it/s \n",
      "\u001b[A\n",
      "\n",
      "                                                      \n",
      "\n",
      "\u001b[A\u001b[A                                                \n",
      "\n",
      "\n",
      "\u001b[A\u001b[A\u001b[A                                             \n",
      "run_evals |          | 0/2 (0.0%) | ⏳ 20:01<? | ?it/s \n",
      "\u001b[A\n",
      "\n",
      "                                                      \n",
      "\n",
      "\u001b[A\u001b[A                                                \n",
      "\n",
      "\n",
      "\u001b[A\u001b[A\u001b[A                                             \n",
      "run_evals |          | 0/2 (0.0%) | ⏳ 20:02<? | ?it/s \n",
      "\u001b[A\n",
      "\n",
      "                                                      \n",
      "\n",
      "\u001b[A\u001b[A                                                \n",
      "\n",
      "\n",
      "\u001b[A\u001b[A\u001b[A                                             \n",
      "run_evals |          | 0/2 (0.0%) | ⏳ 20:02<? | ?it/s \n",
      "\u001b[A\n",
      "\n",
      "\u001b[A\u001b[A"
     ]
    },
    {
     "name": "stdout",
     "output_type": "stream",
     "text": [
      "Exception in worker on attempt 2: Error code: 404 - {'error': {'message': 'The model `gpt-4-turbo` does not exist or you do not have access to it.', 'type': 'invalid_request_error', 'param': None, 'code': 'model_not_found'}}\n",
      "Retrying...\n",
      "Exception in worker on attempt 3: Error code: 404 - {'error': {'message': 'The model `gpt-4-turbo` does not exist or you do not have access to it.', 'type': 'invalid_request_error', 'param': None, 'code': 'model_not_found'}}\n",
      "Retrying...\n"
     ]
    },
    {
     "name": "stderr",
     "output_type": "stream",
     "text": [
      "run_evals |██████████| 2/2 (100.0%) | ⏳ 00:19<00:00 |  9.81s/it\n",
      "WARNI [phoenix.evals.executors] 🐌!! If running llm_classify inside a notebook, patching the event loop with nest_asyncio will allow asynchronous eval submission, and is significantly faster. To patch the event loop, run `nest_asyncio.apply()`.\n",
      "run_evals |██████████| 4/4 (100.0%) | ⏳ 00:21<00:00 |  5.38s/it\n"
     ]
    }
   ],
   "source": [
    "eval_model = OpenAIModel(\n",
    "    model=\"gpt-4-turbo\",\n",
    ")\n",
    "hallucination_evaluator = HallucinationEvaluator(eval_model)\n",
    "qa_correctness_evaluator = QAEvaluator(eval_model)\n",
    "relevance_evaluator = RelevanceEvaluator(eval_model)\n",
    "\n",
    "hallucination_eval_df, qa_correctness_eval_df = run_evals(\n",
    "    dataframe=queries_df,\n",
    "    evaluators=[hallucination_evaluator, qa_correctness_evaluator],\n",
    "    provide_explanation=True,\n",
    ")\n",
    "relevance_eval_df = run_evals(\n",
    "    dataframe=retrieved_documents_df,\n",
    "    evaluators=[relevance_evaluator],\n",
    "    provide_explanation=True,\n",
    ")[0]\n",
    "\n",
    "px.Client().log_evaluations(\n",
    "    SpanEvaluations(eval_name=\"Hallucination\", dataframe=hallucination_eval_df),\n",
    "    SpanEvaluations(eval_name=\"QA Correctness\", dataframe=qa_correctness_eval_df),\n",
    "    DocumentEvaluations(eval_name=\"Relevance\", dataframe=relevance_eval_df),\n",
    ")"
   ]
  },
  {
   "cell_type": "code",
   "execution_count": null,
   "metadata": {},
   "outputs": [],
   "source": []
  }
 ],
 "metadata": {
  "kernelspec": {
   "display_name": "rcbs",
   "language": "python",
   "name": "python3"
  },
  "language_info": {
   "codemirror_mode": {
    "name": "ipython",
    "version": 3
   },
   "file_extension": ".py",
   "mimetype": "text/x-python",
   "name": "python",
   "nbconvert_exporter": "python",
   "pygments_lexer": "ipython3",
   "version": "3.10.13"
  }
 },
 "nbformat": 4,
 "nbformat_minor": 2
}
